{
 "cells": [
  {
   "cell_type": "code",
   "execution_count": null,
   "id": "a35c7cab-1621-404b-b083-ba51aee65ff8",
   "metadata": {},
   "outputs": [],
   "source": [
    "%conda update -n base conda"
   ]
  },
  {
   "cell_type": "code",
   "execution_count": null,
   "id": "ca8f886c-d6cd-4c23-bec2-a1eb9f46e291",
   "metadata": {},
   "outputs": [],
   "source": [
    "%conda install numpy"
   ]
  },
  {
   "cell_type": "code",
   "execution_count": null,
   "id": "2d43e895-88b5-4dfc-b448-acc2d672a29b",
   "metadata": {},
   "outputs": [],
   "source": [
    "%conda install pandas"
   ]
  },
  {
   "cell_type": "code",
   "execution_count": null,
   "id": "541eaaa7-d722-487c-9be3-0ac6c55ebb72",
   "metadata": {},
   "outputs": [],
   "source": [
    "# from aws university\n",
    "%conda install nltk\n",
    "%conda install scikit-learn\n",
    "%conda install matplotlib\n",
    "%conda install seaborn\n",
    "%conda install ipykernel"
   ]
  },
  {
   "cell_type": "code",
   "execution_count": null,
   "id": "65f9cd5a-ca38-4161-93cc-2a8416a1db11",
   "metadata": {},
   "outputs": [],
   "source": [
    "%pip install torch\n",
    "%pip install torchtext\n",
    "%pip install mxnet\n",
    "%pip install gluonnlp"
   ]
  },
  {
   "cell_type": "code",
   "execution_count": null,
   "id": "6af0dd28-e090-4231-b7ee-76ae46db8f94",
   "metadata": {},
   "outputs": [],
   "source": [
    "conda update -n base conda"
   ]
  },
  {
   "cell_type": "code",
   "execution_count": null,
   "id": "b8413947-7e85-4749-8f90-f6461fce824b",
   "metadata": {},
   "outputs": [],
   "source": [
    "%pip install nltk\n",
    "%pip install string\n",
    "%pip install ast\n",
    "%pip install re\n",
    "%pip install unidecode\n",
    "%pip install unicodedata\n",
    "\n",
    "%pip install pickle \n"
   ]
  },
  {
   "cell_type": "code",
   "execution_count": null,
   "id": "b006016e-a792-4556-991e-e6843f3ec170",
   "metadata": {},
   "outputs": [],
   "source": [
    "%conda install unidecode\n",
    "%conda install ast"
   ]
  },
  {
   "cell_type": "code",
   "execution_count": null,
   "id": "c42f8def-5da9-442a-b4d2-6350d1a00789",
   "metadata": {},
   "outputs": [],
   "source": [
    "%conda install openCV"
   ]
  },
  {
   "cell_type": "code",
   "execution_count": null,
   "id": "8f209c52-d21a-440c-a70c-da6dba07e8d2",
   "metadata": {},
   "outputs": [],
   "source": [
    "%pip install opencv-python"
   ]
  },
  {
   "cell_type": "code",
   "execution_count": null,
   "id": "7d01c124-efc4-4e3e-b1db-47d26d2beab3",
   "metadata": {},
   "outputs": [],
   "source": [
    "%pip install scikit-image"
   ]
  },
  {
   "cell_type": "code",
   "execution_count": 1,
   "id": "dc5a037b-87af-46c8-9d35-c713a211a845",
   "metadata": {},
   "outputs": [
    {
     "name": "stdout",
     "output_type": "stream",
     "text": [
      "Collecting imutils\n",
      "  Downloading imutils-0.5.4.tar.gz (17 kB)\n",
      "Building wheels for collected packages: imutils\n",
      "  Building wheel for imutils (setup.py) ... \u001b[?25ldone\n",
      "\u001b[?25h  Created wheel for imutils: filename=imutils-0.5.4-py3-none-any.whl size=25836 sha256=311ef31a6f5365efdb1bc1b2b280987c5684ead7962fc37b011f0b67ec2e40c5\n",
      "  Stored in directory: /home/studio-lab-user/.cache/pip/wheels/4b/a5/2d/4a070a801d3a3d93f033d3ee9728f470f514826e89952df3ea\n",
      "Successfully built imutils\n",
      "Installing collected packages: imutils\n",
      "Successfully installed imutils-0.5.4\n",
      "Note: you may need to restart the kernel to use updated packages.\n"
     ]
    }
   ],
   "source": [
    "%pip install imutils"
   ]
  },
  {
   "cell_type": "code",
   "execution_count": null,
   "id": "613e4d87-de74-4332-867f-158b373f6f56",
   "metadata": {},
   "outputs": [],
   "source": []
  }
 ],
 "metadata": {
  "kernelspec": {
   "display_name": "default:Python",
   "language": "python",
   "name": "conda-env-default-py"
  },
  "language_info": {
   "codemirror_mode": {
    "name": "ipython",
    "version": 3
   },
   "file_extension": ".py",
   "mimetype": "text/x-python",
   "name": "python",
   "nbconvert_exporter": "python",
   "pygments_lexer": "ipython3",
   "version": "3.9.13"
  }
 },
 "nbformat": 4,
 "nbformat_minor": 5
}
