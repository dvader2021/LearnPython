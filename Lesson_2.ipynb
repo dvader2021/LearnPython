{
 "cells": [
  {
   "cell_type": "markdown",
   "id": "4aeea10d-e355-4e57-9729-79e500ffe24f",
   "metadata": {},
   "source": [
    "# Python Class Summary Notes\n",
    "# Lesson 2\n",
    "Sep 2022\n"
   ]
  },
  {
   "cell_type": "markdown",
   "id": "59453b33-8cd8-48bb-93aa-72fbf5c4fe3b",
   "metadata": {},
   "source": [
    "**Pre-step: Execute the following cell in order to suppress warning messages**"
   ]
  },
  {
   "cell_type": "code",
   "execution_count": 1,
   "id": "4343dfa7-851a-4c80-b11a-59e306835745",
   "metadata": {},
   "outputs": [],
   "source": [
    "import warnings\n",
    "warnings.filterwarnings(\"ignore\")"
   ]
  },
  {
   "cell_type": "code",
   "execution_count": 2,
   "id": "e02cd00a-9d06-48f1-8354-a38fbd4141af",
   "metadata": {},
   "outputs": [],
   "source": [
    "import pandas as pd\n",
    "import statsmodels.api as sm"
   ]
  },
  {
   "cell_type": "code",
   "execution_count": 3,
   "id": "1e2337ef-8e66-4b19-8865-bfa3db99bc69",
   "metadata": {},
   "outputs": [],
   "source": [
    "# import dataset from statsmodels\n",
    "mtcars = sm.datasets.get_rdataset(\"mtcars\").data"
   ]
  },
  {
   "cell_type": "code",
   "execution_count": 5,
   "id": "fd4d0bce-c102-4367-97c3-e3d5087c8c3e",
   "metadata": {},
   "outputs": [
    {
     "data": {
      "text/html": [
       "<div>\n",
       "<style scoped>\n",
       "    .dataframe tbody tr th:only-of-type {\n",
       "        vertical-align: middle;\n",
       "    }\n",
       "\n",
       "    .dataframe tbody tr th {\n",
       "        vertical-align: top;\n",
       "    }\n",
       "\n",
       "    .dataframe thead th {\n",
       "        text-align: right;\n",
       "    }\n",
       "</style>\n",
       "<table border=\"1\" class=\"dataframe\">\n",
       "  <thead>\n",
       "    <tr style=\"text-align: right;\">\n",
       "      <th></th>\n",
       "      <th>count</th>\n",
       "      <th>mean</th>\n",
       "      <th>std</th>\n",
       "      <th>min</th>\n",
       "      <th>25%</th>\n",
       "      <th>50%</th>\n",
       "      <th>75%</th>\n",
       "      <th>max</th>\n",
       "    </tr>\n",
       "  </thead>\n",
       "  <tbody>\n",
       "    <tr>\n",
       "      <th>mpg</th>\n",
       "      <td>32.0</td>\n",
       "      <td>20.090625</td>\n",
       "      <td>6.026948</td>\n",
       "      <td>10.400</td>\n",
       "      <td>15.42500</td>\n",
       "      <td>19.200</td>\n",
       "      <td>22.80</td>\n",
       "      <td>33.900</td>\n",
       "    </tr>\n",
       "    <tr>\n",
       "      <th>cyl</th>\n",
       "      <td>32.0</td>\n",
       "      <td>6.187500</td>\n",
       "      <td>1.785922</td>\n",
       "      <td>4.000</td>\n",
       "      <td>4.00000</td>\n",
       "      <td>6.000</td>\n",
       "      <td>8.00</td>\n",
       "      <td>8.000</td>\n",
       "    </tr>\n",
       "    <tr>\n",
       "      <th>disp</th>\n",
       "      <td>32.0</td>\n",
       "      <td>230.721875</td>\n",
       "      <td>123.938694</td>\n",
       "      <td>71.100</td>\n",
       "      <td>120.82500</td>\n",
       "      <td>196.300</td>\n",
       "      <td>326.00</td>\n",
       "      <td>472.000</td>\n",
       "    </tr>\n",
       "    <tr>\n",
       "      <th>hp</th>\n",
       "      <td>32.0</td>\n",
       "      <td>146.687500</td>\n",
       "      <td>68.562868</td>\n",
       "      <td>52.000</td>\n",
       "      <td>96.50000</td>\n",
       "      <td>123.000</td>\n",
       "      <td>180.00</td>\n",
       "      <td>335.000</td>\n",
       "    </tr>\n",
       "    <tr>\n",
       "      <th>drat</th>\n",
       "      <td>32.0</td>\n",
       "      <td>3.596563</td>\n",
       "      <td>0.534679</td>\n",
       "      <td>2.760</td>\n",
       "      <td>3.08000</td>\n",
       "      <td>3.695</td>\n",
       "      <td>3.92</td>\n",
       "      <td>4.930</td>\n",
       "    </tr>\n",
       "    <tr>\n",
       "      <th>wt</th>\n",
       "      <td>32.0</td>\n",
       "      <td>3.217250</td>\n",
       "      <td>0.978457</td>\n",
       "      <td>1.513</td>\n",
       "      <td>2.58125</td>\n",
       "      <td>3.325</td>\n",
       "      <td>3.61</td>\n",
       "      <td>5.424</td>\n",
       "    </tr>\n",
       "    <tr>\n",
       "      <th>qsec</th>\n",
       "      <td>32.0</td>\n",
       "      <td>17.848750</td>\n",
       "      <td>1.786943</td>\n",
       "      <td>14.500</td>\n",
       "      <td>16.89250</td>\n",
       "      <td>17.710</td>\n",
       "      <td>18.90</td>\n",
       "      <td>22.900</td>\n",
       "    </tr>\n",
       "    <tr>\n",
       "      <th>vs</th>\n",
       "      <td>32.0</td>\n",
       "      <td>0.437500</td>\n",
       "      <td>0.504016</td>\n",
       "      <td>0.000</td>\n",
       "      <td>0.00000</td>\n",
       "      <td>0.000</td>\n",
       "      <td>1.00</td>\n",
       "      <td>1.000</td>\n",
       "    </tr>\n",
       "    <tr>\n",
       "      <th>am</th>\n",
       "      <td>32.0</td>\n",
       "      <td>0.406250</td>\n",
       "      <td>0.498991</td>\n",
       "      <td>0.000</td>\n",
       "      <td>0.00000</td>\n",
       "      <td>0.000</td>\n",
       "      <td>1.00</td>\n",
       "      <td>1.000</td>\n",
       "    </tr>\n",
       "    <tr>\n",
       "      <th>gear</th>\n",
       "      <td>32.0</td>\n",
       "      <td>3.687500</td>\n",
       "      <td>0.737804</td>\n",
       "      <td>3.000</td>\n",
       "      <td>3.00000</td>\n",
       "      <td>4.000</td>\n",
       "      <td>4.00</td>\n",
       "      <td>5.000</td>\n",
       "    </tr>\n",
       "    <tr>\n",
       "      <th>carb</th>\n",
       "      <td>32.0</td>\n",
       "      <td>2.812500</td>\n",
       "      <td>1.615200</td>\n",
       "      <td>1.000</td>\n",
       "      <td>2.00000</td>\n",
       "      <td>2.000</td>\n",
       "      <td>4.00</td>\n",
       "      <td>8.000</td>\n",
       "    </tr>\n",
       "  </tbody>\n",
       "</table>\n",
       "</div>"
      ],
      "text/plain": [
       "      count        mean         std     min        25%      50%     75%  \\\n",
       "mpg    32.0   20.090625    6.026948  10.400   15.42500   19.200   22.80   \n",
       "cyl    32.0    6.187500    1.785922   4.000    4.00000    6.000    8.00   \n",
       "disp   32.0  230.721875  123.938694  71.100  120.82500  196.300  326.00   \n",
       "hp     32.0  146.687500   68.562868  52.000   96.50000  123.000  180.00   \n",
       "drat   32.0    3.596563    0.534679   2.760    3.08000    3.695    3.92   \n",
       "wt     32.0    3.217250    0.978457   1.513    2.58125    3.325    3.61   \n",
       "qsec   32.0   17.848750    1.786943  14.500   16.89250   17.710   18.90   \n",
       "vs     32.0    0.437500    0.504016   0.000    0.00000    0.000    1.00   \n",
       "am     32.0    0.406250    0.498991   0.000    0.00000    0.000    1.00   \n",
       "gear   32.0    3.687500    0.737804   3.000    3.00000    4.000    4.00   \n",
       "carb   32.0    2.812500    1.615200   1.000    2.00000    2.000    4.00   \n",
       "\n",
       "          max  \n",
       "mpg    33.900  \n",
       "cyl     8.000  \n",
       "disp  472.000  \n",
       "hp    335.000  \n",
       "drat    4.930  \n",
       "wt      5.424  \n",
       "qsec   22.900  \n",
       "vs      1.000  \n",
       "am      1.000  \n",
       "gear    5.000  \n",
       "carb    8.000  "
      ]
     },
     "execution_count": 5,
     "metadata": {},
     "output_type": "execute_result"
    }
   ],
   "source": [
    "mtcars.describe().T"
   ]
  },
  {
   "cell_type": "code",
   "execution_count": 6,
   "id": "d6301172-22e5-491d-ac84-cd2a7c0d51b0",
   "metadata": {},
   "outputs": [],
   "source": [
    "from sklearn import preprocessing"
   ]
  },
  {
   "cell_type": "markdown",
   "id": "7dd7233b-b0c6-4c25-87d4-d3bc59a90508",
   "metadata": {},
   "source": [
    "Scaling features to lie between a given minimum and maximum value (eg. 0 and 1) can be achieved using a MinMaxScaler. Use the following syntax to rescale the first four columns of the mtcars data set using the **.MinMaxScaler()** method<br><br>\n",
    "&nbsp;&nbsp;&nbsp;&nbsp;&nbsp;&nbsp;***scaler = preprocessing.MinMaxScaler()<br>\n",
    "&nbsp;&nbsp;&nbsp;&nbsp;&nbsp;&nbsp;MinMaxScaled = pd.DataFrame(scaler.fit_transform(mtcars.iloc[:,[0,1,2,3]]), columns=mtcars.columns[0:4])***"
   ]
  },
  {
   "cell_type": "code",
   "execution_count": 7,
   "id": "6c41d6b0-0a66-4ced-976c-9e77fe5ddbad",
   "metadata": {},
   "outputs": [],
   "source": [
    "scaler = preprocessing.MinMaxScaler()\n",
    "MinMaxScaled = pd.DataFrame(scaler.fit_transform(mtcars.iloc[:,[0,1,2,3]]),columns=mtcars.columns[0:4])"
   ]
  },
  {
   "cell_type": "code",
   "execution_count": 8,
   "id": "187289de-e77c-48e1-81d0-1e88ea6e8681",
   "metadata": {},
   "outputs": [
    {
     "data": {
      "text/html": [
       "<div>\n",
       "<style scoped>\n",
       "    .dataframe tbody tr th:only-of-type {\n",
       "        vertical-align: middle;\n",
       "    }\n",
       "\n",
       "    .dataframe tbody tr th {\n",
       "        vertical-align: top;\n",
       "    }\n",
       "\n",
       "    .dataframe thead th {\n",
       "        text-align: right;\n",
       "    }\n",
       "</style>\n",
       "<table border=\"1\" class=\"dataframe\">\n",
       "  <thead>\n",
       "    <tr style=\"text-align: right;\">\n",
       "      <th></th>\n",
       "      <th>count</th>\n",
       "      <th>mean</th>\n",
       "      <th>std</th>\n",
       "      <th>min</th>\n",
       "      <th>25%</th>\n",
       "      <th>50%</th>\n",
       "      <th>75%</th>\n",
       "      <th>max</th>\n",
       "    </tr>\n",
       "  </thead>\n",
       "  <tbody>\n",
       "    <tr>\n",
       "      <th>mpg</th>\n",
       "      <td>32.0</td>\n",
       "      <td>0.412367</td>\n",
       "      <td>0.256466</td>\n",
       "      <td>0.0</td>\n",
       "      <td>0.213830</td>\n",
       "      <td>0.374468</td>\n",
       "      <td>0.527660</td>\n",
       "      <td>1.0</td>\n",
       "    </tr>\n",
       "    <tr>\n",
       "      <th>cyl</th>\n",
       "      <td>32.0</td>\n",
       "      <td>0.546875</td>\n",
       "      <td>0.446480</td>\n",
       "      <td>0.0</td>\n",
       "      <td>0.000000</td>\n",
       "      <td>0.500000</td>\n",
       "      <td>1.000000</td>\n",
       "      <td>1.0</td>\n",
       "    </tr>\n",
       "    <tr>\n",
       "      <th>disp</th>\n",
       "      <td>32.0</td>\n",
       "      <td>0.398159</td>\n",
       "      <td>0.309151</td>\n",
       "      <td>0.0</td>\n",
       "      <td>0.124033</td>\n",
       "      <td>0.312297</td>\n",
       "      <td>0.635819</td>\n",
       "      <td>1.0</td>\n",
       "    </tr>\n",
       "    <tr>\n",
       "      <th>hp</th>\n",
       "      <td>32.0</td>\n",
       "      <td>0.334585</td>\n",
       "      <td>0.242272</td>\n",
       "      <td>0.0</td>\n",
       "      <td>0.157244</td>\n",
       "      <td>0.250883</td>\n",
       "      <td>0.452297</td>\n",
       "      <td>1.0</td>\n",
       "    </tr>\n",
       "  </tbody>\n",
       "</table>\n",
       "</div>"
      ],
      "text/plain": [
       "      count      mean       std  min       25%       50%       75%  max\n",
       "mpg    32.0  0.412367  0.256466  0.0  0.213830  0.374468  0.527660  1.0\n",
       "cyl    32.0  0.546875  0.446480  0.0  0.000000  0.500000  1.000000  1.0\n",
       "disp   32.0  0.398159  0.309151  0.0  0.124033  0.312297  0.635819  1.0\n",
       "hp     32.0  0.334585  0.242272  0.0  0.157244  0.250883  0.452297  1.0"
      ]
     },
     "execution_count": 8,
     "metadata": {},
     "output_type": "execute_result"
    }
   ],
   "source": [
    "MinMaxScaled.describe().T"
   ]
  },
  {
   "cell_type": "markdown",
   "id": "d1812329-41f8-430e-9f34-c82e8e2a6142",
   "metadata": {},
   "source": [
    "Normalization is used to scale data (by row) on a scale of 0 to 1 such that individual rows have a unit norm. Rescale the first four columns of the mtcars data set using the **.normalize()** function<br><br>\n",
    "*Info: **.normalize()** is a row-wise operation whereas **.scale()** in the next step is performed column-wise*"
   ]
  },
  {
   "cell_type": "code",
   "execution_count": 9,
   "id": "66cfd717-33b2-48bc-a020-47cd52906c45",
   "metadata": {},
   "outputs": [
    {
     "data": {
      "text/plain": [
       "array([[0.10747771, 0.03070792, 0.81887777, 0.56297847],\n",
       "       [0.10747771, 0.03070792, 0.81887777, 0.56297847],\n",
       "       [0.15790428, 0.02770251, 0.74796764, 0.64408324],\n",
       "       [0.07606178, 0.02132573, 0.91700649, 0.39097176],\n",
       "       [0.04665697, 0.0199602 , 0.89820904, 0.4366294 ],\n",
       "       [0.07268337, 0.02409394, 0.90352258, 0.42164387],\n",
       "       [0.03281565, 0.01835841, 0.82612823, 0.56222616],\n",
       "       [0.15139154, 0.02481828, 0.91021059, 0.38468341],\n",
       "       [0.13300515, 0.02333424, 0.82136513, 0.55418812],\n",
       "       [0.09192666, 0.02872708, 0.80244312, 0.58890515],\n",
       "       [0.08527432, 0.02874415, 0.80291997, 0.58925511],\n",
       "       [0.04972012, 0.02425372, 0.83614695, 0.54570867],\n",
       "       [0.05244136, 0.02425034, 0.83603042, 0.54563262],\n",
       "       [0.0460901 , 0.02425795, 0.8362927 , 0.54580379],\n",
       "       [0.02020346, 0.01554113, 0.91692645, 0.39824136],\n",
       "       [0.02047509, 0.01575007, 0.9056291 , 0.42328317],\n",
       "       [0.02959118, 0.01610404, 0.88572238, 0.46299124],\n",
       "       [0.30062631, 0.03711436, 0.73022503, 0.61238693],\n",
       "       [0.31397571, 0.04131259, 0.78184083, 0.53706372],\n",
       "       [0.33169333, 0.03913786, 0.6956754 , 0.63599017],\n",
       "       [0.13789062, 0.02565407, 0.77026342, 0.62211117],\n",
       "       [0.04402978, 0.02272505, 0.9033207 , 0.42609467],\n",
       "       [0.04478128, 0.0235691 , 0.89562568, 0.44192056],\n",
       "       [0.03111029, 0.01871296, 0.81869186, 0.5730843 ],\n",
       "       [0.04392573, 0.01830239, 0.91511945, 0.40036476],\n",
       "       [0.25615697, 0.03753216, 0.74126008, 0.61928058],\n",
       "       [0.1698038 , 0.02612366, 0.7856691 , 0.59431329],\n",
       "       [0.201536  , 0.02651789, 0.63046294, 0.74913051],\n",
       "       [0.03594525, 0.01820013, 0.79853066, 0.60060426],\n",
       "       [0.08632874, 0.02629302, 0.63541455, 0.76687963],\n",
       "       [0.03328283, 0.01775084, 0.66787548, 0.74331656],\n",
       "       [0.130246  , 0.02434505, 0.73643765, 0.66340251]])"
      ]
     },
     "execution_count": 9,
     "metadata": {},
     "output_type": "execute_result"
    }
   ],
   "source": [
    "preprocessing.normalize(mtcars.iloc[:,[0,1,2,3]])"
   ]
  },
  {
   "cell_type": "markdown",
   "id": "c4662f7f-4af1-490d-9fd6-0b7c4613ca04",
   "metadata": {},
   "source": [
    "Shift the distribution of each of these attributes to having a mean of zero and a\n",
    "standard deviation of one (unit variance).<br><br>\n",
    "*Hint: Use the **.scale()** method rather than .normalize()*"
   ]
  },
  {
   "cell_type": "code",
   "execution_count": 10,
   "id": "ccbf1176-5c53-4763-a92e-604a7ade3f39",
   "metadata": {},
   "outputs": [
    {
     "data": {
      "text/plain": [
       "array([[ 0.15329914, -0.10666772, -0.57975032, -0.54365487],\n",
       "       [ 0.15329914, -0.10666772, -0.57975032, -0.54365487],\n",
       "       [ 0.4567366 , -1.24445674, -1.00602601, -0.7955699 ],\n",
       "       [ 0.22072968, -0.10666772,  0.22361542, -0.54365487],\n",
       "       [-0.23442651,  1.0311213 ,  1.05977159,  0.41954967],\n",
       "       [-0.33557233, -0.10666772, -0.0469057 , -0.61774753],\n",
       "       [-0.97616253,  1.0311213 ,  1.05977159,  1.45684686],\n",
       "       [ 0.72645879, -1.24445674, -0.68877852, -1.25494437],\n",
       "       [ 0.4567366 , -1.24445674, -0.73714442, -0.76593284],\n",
       "       [-0.15013833, -0.10666772, -0.51744848, -0.35101396],\n",
       "       [-0.38614524, -0.10666772, -0.51744848, -0.35101396],\n",
       "       [-0.62215216,  1.0311213 ,  0.36953287,  0.49364233],\n",
       "       [-0.47043343,  1.0311213 ,  0.36953287,  0.49364233],\n",
       "       [-0.8244438 ,  1.0311213 ,  0.36953287,  0.49364233],\n",
       "       [-1.63361037,  1.0311213 ,  1.97790385,  0.86410561],\n",
       "       [-1.63361037,  1.0311213 ,  1.87953254,  1.01229092],\n",
       "       [-0.90873199,  1.0311213 ,  1.71558035,  1.23456889],\n",
       "       [ 2.07506974, -1.24445674, -1.24621597, -1.19567025],\n",
       "       [ 1.737917  , -1.24445674, -1.2708088 , -1.40312969],\n",
       "       [ 2.32793429, -1.24445674, -1.3085178 , -1.21048878],\n",
       "       [ 0.23758732, -1.24445674, -0.90683494, -0.73629578],\n",
       "       [-0.77387089,  1.0311213 ,  0.71547199,  0.04908639],\n",
       "       [-0.8244438 ,  1.0311213 ,  0.60070545,  0.04908639],\n",
       "       [-1.1447389 ,  1.0311213 ,  0.97779549,  1.45684686],\n",
       "       [-0.15013833,  1.0311213 ,  1.38767597,  0.41954967],\n",
       "       [ 1.21533026, -1.24445674, -1.24375669, -1.19567025],\n",
       "       [ 0.99618098, -1.24445674, -0.90519541, -0.82520696],\n",
       "       [ 1.737917  , -1.24445674, -1.11177517, -0.49919927],\n",
       "       [-0.72329798,  1.0311213 ,  0.9859931 ,  1.73839896],\n",
       "       [-0.06585014, -0.10666772, -0.70271446,  0.41954967],\n",
       "       [-0.85815908,  1.0311213 ,  0.57611263,  2.79051468],\n",
       "       [ 0.22072968, -1.24445674, -0.89945709, -0.5584734 ]])"
      ]
     },
     "execution_count": 10,
     "metadata": {},
     "output_type": "execute_result"
    }
   ],
   "source": [
    "preprocessing.scale(mtcars.iloc[:,[0,1,2,3]]) "
   ]
  },
  {
   "cell_type": "code",
   "execution_count": 11,
   "id": "b2051926-8cc1-473e-8e63-abb02b919fec",
   "metadata": {},
   "outputs": [
    {
     "data": {
      "text/plain": [
       "Fiat X1-9         False\n",
       "Porsche 914-2     False\n",
       "Lotus Europa      False\n",
       "Ford Pantera L    False\n",
       "Ferrari Dino      False\n",
       "Name: mpg, dtype: bool"
      ]
     },
     "execution_count": 11,
     "metadata": {},
     "output_type": "execute_result"
    }
   ],
   "source": [
    "mtcars['mpg'][25:30].isnull() #check for null values in the 25th to 29th row of column mpg"
   ]
  },
  {
   "cell_type": "markdown",
   "id": "aa6a05fe-9f10-4df0-9685-7403ac80224d",
   "metadata": {},
   "source": [
    "perform principal component analysis"
   ]
  },
  {
   "cell_type": "code",
   "execution_count": 12,
   "id": "d098c685-a80f-4dc6-8ea3-485ffcd1f278",
   "metadata": {},
   "outputs": [
    {
     "data": {
      "text/html": [
       "<style>#sk-container-id-1 {color: black;background-color: white;}#sk-container-id-1 pre{padding: 0;}#sk-container-id-1 div.sk-toggleable {background-color: white;}#sk-container-id-1 label.sk-toggleable__label {cursor: pointer;display: block;width: 100%;margin-bottom: 0;padding: 0.3em;box-sizing: border-box;text-align: center;}#sk-container-id-1 label.sk-toggleable__label-arrow:before {content: \"▸\";float: left;margin-right: 0.25em;color: #696969;}#sk-container-id-1 label.sk-toggleable__label-arrow:hover:before {color: black;}#sk-container-id-1 div.sk-estimator:hover label.sk-toggleable__label-arrow:before {color: black;}#sk-container-id-1 div.sk-toggleable__content {max-height: 0;max-width: 0;overflow: hidden;text-align: left;background-color: #f0f8ff;}#sk-container-id-1 div.sk-toggleable__content pre {margin: 0.2em;color: black;border-radius: 0.25em;background-color: #f0f8ff;}#sk-container-id-1 input.sk-toggleable__control:checked~div.sk-toggleable__content {max-height: 200px;max-width: 100%;overflow: auto;}#sk-container-id-1 input.sk-toggleable__control:checked~label.sk-toggleable__label-arrow:before {content: \"▾\";}#sk-container-id-1 div.sk-estimator input.sk-toggleable__control:checked~label.sk-toggleable__label {background-color: #d4ebff;}#sk-container-id-1 div.sk-label input.sk-toggleable__control:checked~label.sk-toggleable__label {background-color: #d4ebff;}#sk-container-id-1 input.sk-hidden--visually {border: 0;clip: rect(1px 1px 1px 1px);clip: rect(1px, 1px, 1px, 1px);height: 1px;margin: -1px;overflow: hidden;padding: 0;position: absolute;width: 1px;}#sk-container-id-1 div.sk-estimator {font-family: monospace;background-color: #f0f8ff;border: 1px dotted black;border-radius: 0.25em;box-sizing: border-box;margin-bottom: 0.5em;}#sk-container-id-1 div.sk-estimator:hover {background-color: #d4ebff;}#sk-container-id-1 div.sk-parallel-item::after {content: \"\";width: 100%;border-bottom: 1px solid gray;flex-grow: 1;}#sk-container-id-1 div.sk-label:hover label.sk-toggleable__label {background-color: #d4ebff;}#sk-container-id-1 div.sk-serial::before {content: \"\";position: absolute;border-left: 1px solid gray;box-sizing: border-box;top: 0;bottom: 0;left: 50%;z-index: 0;}#sk-container-id-1 div.sk-serial {display: flex;flex-direction: column;align-items: center;background-color: white;padding-right: 0.2em;padding-left: 0.2em;position: relative;}#sk-container-id-1 div.sk-item {position: relative;z-index: 1;}#sk-container-id-1 div.sk-parallel {display: flex;align-items: stretch;justify-content: center;background-color: white;position: relative;}#sk-container-id-1 div.sk-item::before, #sk-container-id-1 div.sk-parallel-item::before {content: \"\";position: absolute;border-left: 1px solid gray;box-sizing: border-box;top: 0;bottom: 0;left: 50%;z-index: -1;}#sk-container-id-1 div.sk-parallel-item {display: flex;flex-direction: column;z-index: 1;position: relative;background-color: white;}#sk-container-id-1 div.sk-parallel-item:first-child::after {align-self: flex-end;width: 50%;}#sk-container-id-1 div.sk-parallel-item:last-child::after {align-self: flex-start;width: 50%;}#sk-container-id-1 div.sk-parallel-item:only-child::after {width: 0;}#sk-container-id-1 div.sk-dashed-wrapped {border: 1px dashed gray;margin: 0 0.4em 0.5em 0.4em;box-sizing: border-box;padding-bottom: 0.4em;background-color: white;}#sk-container-id-1 div.sk-label label {font-family: monospace;font-weight: bold;display: inline-block;line-height: 1.2em;}#sk-container-id-1 div.sk-label-container {text-align: center;}#sk-container-id-1 div.sk-container {/* jupyter's `normalize.less` sets `[hidden] { display: none; }` but bootstrap.min.css set `[hidden] { display: none !important; }` so we also need the `!important` here to be able to override the default hidden behavior on the sphinx rendered scikit-learn.org. See: https://github.com/scikit-learn/scikit-learn/issues/21755 */display: inline-block !important;position: relative;}#sk-container-id-1 div.sk-text-repr-fallback {display: none;}</style><div id=\"sk-container-id-1\" class=\"sk-top-container\"><div class=\"sk-text-repr-fallback\"><pre>PCA(n_components=4)</pre><b>In a Jupyter environment, please rerun this cell to show the HTML representation or trust the notebook. <br />On GitHub, the HTML representation is unable to render, please try loading this page with nbviewer.org.</b></div><div class=\"sk-container\" hidden><div class=\"sk-item\"><div class=\"sk-estimator sk-toggleable\"><input class=\"sk-toggleable__control sk-hidden--visually\" id=\"sk-estimator-id-1\" type=\"checkbox\" checked><label for=\"sk-estimator-id-1\" class=\"sk-toggleable__label sk-toggleable__label-arrow\">PCA</label><div class=\"sk-toggleable__content\"><pre>PCA(n_components=4)</pre></div></div></div></div></div>"
      ],
      "text/plain": [
       "PCA(n_components=4)"
      ]
     },
     "execution_count": 12,
     "metadata": {},
     "output_type": "execute_result"
    }
   ],
   "source": [
    "from sklearn.decomposition import PCA\n",
    "#iris = pd.read_csv('iris.csv')\n",
    "#X = iris.drop('species', axis=1)\n",
    "pca = PCA(n_components=4)\n",
    "pca.fit(mtcars) "
   ]
  },
  {
   "cell_type": "code",
   "execution_count": 16,
   "id": "ff726d15-6397-41d3-9463-9c9d77c05386",
   "metadata": {},
   "outputs": [
    {
     "name": "stdout",
     "output_type": "stream",
     "text": [
      "[9.26998858e-01 7.23683953e-02 4.68994713e-04 8.49029388e-05]\n"
     ]
    }
   ],
   "source": [
    "print(pca.explained_variance_ratio_)  #View the proportion of the total variance explained by each component,"
   ]
  },
  {
   "cell_type": "code",
   "execution_count": 17,
   "id": "143a344e-36c8-44ff-a8db-12039916b338",
   "metadata": {},
   "outputs": [
    {
     "name": "stdout",
     "output_type": "stream",
     "text": [
      "        mpg       cyl      disp        hp      drat        wt      qsec  \\\n",
      "0 -0.038118  0.012035  0.899568  0.434784 -0.002660  0.006239 -0.006671   \n",
      "1 -0.009185  0.003372 -0.435372  0.899307  0.003900 -0.004861 -0.025012   \n",
      "2  0.982071 -0.063484  0.031443  0.025093  0.039725 -0.084910 -0.071670   \n",
      "3  0.047635 -0.227992 -0.005087  0.035716 -0.057129  0.127963  0.886472   \n",
      "\n",
      "         vs        am      gear      carb  \n",
      "0 -0.002729 -0.001963 -0.002605  0.005766  \n",
      "1 -0.002198  0.005794  0.011272  0.027779  \n",
      "2  0.004203  0.054806  0.048524 -0.102897  \n",
      "3  0.177124 -0.135659 -0.129914 -0.268931  \n"
     ]
    }
   ],
   "source": [
    "print(pd.DataFrame(pca.components_,columns=mtcars.columns)) # coefficients of the new variables"
   ]
  },
  {
   "cell_type": "markdown",
   "id": "f59b2309-09ea-4920-9a99-915ebae4f6f1",
   "metadata": {},
   "source": [
    "try the same example on IRIS dataset"
   ]
  },
  {
   "cell_type": "code",
   "execution_count": 18,
   "id": "f775a6bc-f83b-4ce5-90d6-2f74e8986aab",
   "metadata": {},
   "outputs": [
    {
     "data": {
      "text/html": [
       "<style>#sk-container-id-2 {color: black;background-color: white;}#sk-container-id-2 pre{padding: 0;}#sk-container-id-2 div.sk-toggleable {background-color: white;}#sk-container-id-2 label.sk-toggleable__label {cursor: pointer;display: block;width: 100%;margin-bottom: 0;padding: 0.3em;box-sizing: border-box;text-align: center;}#sk-container-id-2 label.sk-toggleable__label-arrow:before {content: \"▸\";float: left;margin-right: 0.25em;color: #696969;}#sk-container-id-2 label.sk-toggleable__label-arrow:hover:before {color: black;}#sk-container-id-2 div.sk-estimator:hover label.sk-toggleable__label-arrow:before {color: black;}#sk-container-id-2 div.sk-toggleable__content {max-height: 0;max-width: 0;overflow: hidden;text-align: left;background-color: #f0f8ff;}#sk-container-id-2 div.sk-toggleable__content pre {margin: 0.2em;color: black;border-radius: 0.25em;background-color: #f0f8ff;}#sk-container-id-2 input.sk-toggleable__control:checked~div.sk-toggleable__content {max-height: 200px;max-width: 100%;overflow: auto;}#sk-container-id-2 input.sk-toggleable__control:checked~label.sk-toggleable__label-arrow:before {content: \"▾\";}#sk-container-id-2 div.sk-estimator input.sk-toggleable__control:checked~label.sk-toggleable__label {background-color: #d4ebff;}#sk-container-id-2 div.sk-label input.sk-toggleable__control:checked~label.sk-toggleable__label {background-color: #d4ebff;}#sk-container-id-2 input.sk-hidden--visually {border: 0;clip: rect(1px 1px 1px 1px);clip: rect(1px, 1px, 1px, 1px);height: 1px;margin: -1px;overflow: hidden;padding: 0;position: absolute;width: 1px;}#sk-container-id-2 div.sk-estimator {font-family: monospace;background-color: #f0f8ff;border: 1px dotted black;border-radius: 0.25em;box-sizing: border-box;margin-bottom: 0.5em;}#sk-container-id-2 div.sk-estimator:hover {background-color: #d4ebff;}#sk-container-id-2 div.sk-parallel-item::after {content: \"\";width: 100%;border-bottom: 1px solid gray;flex-grow: 1;}#sk-container-id-2 div.sk-label:hover label.sk-toggleable__label {background-color: #d4ebff;}#sk-container-id-2 div.sk-serial::before {content: \"\";position: absolute;border-left: 1px solid gray;box-sizing: border-box;top: 0;bottom: 0;left: 50%;z-index: 0;}#sk-container-id-2 div.sk-serial {display: flex;flex-direction: column;align-items: center;background-color: white;padding-right: 0.2em;padding-left: 0.2em;position: relative;}#sk-container-id-2 div.sk-item {position: relative;z-index: 1;}#sk-container-id-2 div.sk-parallel {display: flex;align-items: stretch;justify-content: center;background-color: white;position: relative;}#sk-container-id-2 div.sk-item::before, #sk-container-id-2 div.sk-parallel-item::before {content: \"\";position: absolute;border-left: 1px solid gray;box-sizing: border-box;top: 0;bottom: 0;left: 50%;z-index: -1;}#sk-container-id-2 div.sk-parallel-item {display: flex;flex-direction: column;z-index: 1;position: relative;background-color: white;}#sk-container-id-2 div.sk-parallel-item:first-child::after {align-self: flex-end;width: 50%;}#sk-container-id-2 div.sk-parallel-item:last-child::after {align-self: flex-start;width: 50%;}#sk-container-id-2 div.sk-parallel-item:only-child::after {width: 0;}#sk-container-id-2 div.sk-dashed-wrapped {border: 1px dashed gray;margin: 0 0.4em 0.5em 0.4em;box-sizing: border-box;padding-bottom: 0.4em;background-color: white;}#sk-container-id-2 div.sk-label label {font-family: monospace;font-weight: bold;display: inline-block;line-height: 1.2em;}#sk-container-id-2 div.sk-label-container {text-align: center;}#sk-container-id-2 div.sk-container {/* jupyter's `normalize.less` sets `[hidden] { display: none; }` but bootstrap.min.css set `[hidden] { display: none !important; }` so we also need the `!important` here to be able to override the default hidden behavior on the sphinx rendered scikit-learn.org. See: https://github.com/scikit-learn/scikit-learn/issues/21755 */display: inline-block !important;position: relative;}#sk-container-id-2 div.sk-text-repr-fallback {display: none;}</style><div id=\"sk-container-id-2\" class=\"sk-top-container\"><div class=\"sk-text-repr-fallback\"><pre>PCA(n_components=4)</pre><b>In a Jupyter environment, please rerun this cell to show the HTML representation or trust the notebook. <br />On GitHub, the HTML representation is unable to render, please try loading this page with nbviewer.org.</b></div><div class=\"sk-container\" hidden><div class=\"sk-item\"><div class=\"sk-estimator sk-toggleable\"><input class=\"sk-toggleable__control sk-hidden--visually\" id=\"sk-estimator-id-2\" type=\"checkbox\" checked><label for=\"sk-estimator-id-2\" class=\"sk-toggleable__label sk-toggleable__label-arrow\">PCA</label><div class=\"sk-toggleable__content\"><pre>PCA(n_components=4)</pre></div></div></div></div></div>"
      ],
      "text/plain": [
       "PCA(n_components=4)"
      ]
     },
     "execution_count": 18,
     "metadata": {},
     "output_type": "execute_result"
    }
   ],
   "source": [
    "from sklearn.decomposition import PCA\n",
    "iris = pd.read_csv('iris.csv')\n",
    "X = iris.drop('species', axis=1)\n",
    "pca = PCA(n_components=4)\n",
    "pca.fit(X)"
   ]
  },
  {
   "cell_type": "code",
   "execution_count": 19,
   "id": "4bcf649a-396b-462e-815f-02d508a00010",
   "metadata": {},
   "outputs": [
    {
     "name": "stdout",
     "output_type": "stream",
     "text": [
      "[0.92461872 0.05306648 0.01710261 0.00521218]\n"
     ]
    }
   ],
   "source": [
    "print(pca.explained_variance_ratio_)"
   ]
  },
  {
   "cell_type": "code",
   "execution_count": 20,
   "id": "e9806ce6-9cbc-44ec-951d-7ad0b241bd6e",
   "metadata": {},
   "outputs": [
    {
     "name": "stdout",
     "output_type": "stream",
     "text": [
      "   sepal_length  sepal_width  petal_length  petal_width\n",
      "0      0.361387    -0.084523      0.856671     0.358289\n",
      "1      0.656589     0.730161     -0.173373    -0.075481\n",
      "2     -0.582030     0.597911      0.076236     0.545831\n",
      "3     -0.315487     0.319723      0.479839    -0.753657\n"
     ]
    }
   ],
   "source": [
    "print(pd.DataFrame(pca.components_,columns=X.columns))"
   ]
  },
  {
   "cell_type": "code",
   "execution_count": null,
   "id": "5a4c8ee1-fea9-4afb-8552-fd7137f419d5",
   "metadata": {},
   "outputs": [],
   "source": []
  }
 ],
 "metadata": {
  "kernelspec": {
   "display_name": "default:Python",
   "language": "python",
   "name": "conda-env-default-py"
  },
  "language_info": {
   "codemirror_mode": {
    "name": "ipython",
    "version": 3
   },
   "file_extension": ".py",
   "mimetype": "text/x-python",
   "name": "python",
   "nbconvert_exporter": "python",
   "pygments_lexer": "ipython3",
   "version": "3.9.13"
  }
 },
 "nbformat": 4,
 "nbformat_minor": 5
}
